{
 "cells": [
  {
   "cell_type": "markdown",
   "id": "d496b3f9",
   "metadata": {},
   "source": [
    "\n",
    "## <center>  Analysis of Scala's Github Project Repository Data </center>\n",
    "\n",
    "###### With almost 30k commits and a history spanning over ten years, Scala is a mature programming language. It is a general-purpose programming language that has recently become another prominent language for data scientists.\n",
    "\n",
    "###### Scala is also an open source project. Open source projects have the advantage that their entire development histories like who made changes, what was changed, code reviews etc. are publicly available.\n",
    "\n",
    "###### We're going to read in, clean up and visualize the real world project repository of Scala that spans data from a version control system (Git) as well as a project hosting site (GitHub). We will find out who has had the most influence on its development and who are the experts."
   ]
  },
  {
   "cell_type": "markdown",
   "id": "43f92209",
   "metadata": {},
   "source": [
    "#### The dataset we will use which has been previously mined and extracted from GitHub, is comprised of three files:\n",
    "\n",
    "\n",
    "#### 1- pulls_2011-2013.csv contains the basic information about the pull requests and spans from the end of 2011 up to (but not including) 2014.\n",
    "\n",
    "#### 2- pulls_2014-2018.csv contains identical information and spans from 2014 up to 2018.\n",
    "\n",
    "#### 3- pull_files.csv contains the files that were modified by each pull request."
   ]
  },
  {
   "cell_type": "code",
   "execution_count": 254,
   "id": "6b94bd94",
   "metadata": {},
   "outputs": [
    {
     "name": "stdout",
     "output_type": "stream",
     "text": [
      "        pid         user                  date\n",
      "0  11166973  VladimirNik  2013-12-31T23:10:55Z\n",
      "1  11161892      Ichoran  2013-12-31T16:55:47Z\n",
      "**************************************************\n",
      "         pid      user                  date\n",
      "0  163314316    hrhino  2018-01-16T23:29:16Z\n",
      "1  163061502  joroKr21  2018-01-15T23:44:52Z\n",
      "**************************************************\n",
      "         pid                              file\n",
      "0  163314316   test/files/pos/t5638/Among.java\n",
      "1  163314316  test/files/pos/t5638/Usage.scala\n"
     ]
    }
   ],
   "source": [
    "import pandas as pd\n",
    "\n",
    "pulls_one = pd.read_csv(r'D:\\New folder\\pulls_2011-2013.csv')\n",
    "pulls_two = pd.read_csv(r'D:\\New folder\\pulls_2014-2018.csv')\n",
    "pull_files = pd.read_csv(r'D:\\New folder\\pull_files.csv') \n",
    "\n",
    "print(pulls_one.head(2))\n",
    "print(50*'*')\n",
    "print(pulls_two.head(2))\n",
    "print(50*'*')\n",
    "print(pull_files.head(2))"
   ]
  },
  {
   "cell_type": "markdown",
   "id": "03216650",
   "metadata": {},
   "source": [
    "##  <center> Preparing and Cleaning Data </center>\n",
    "#### First, we will need to combine the data from the two separate pull DataFrames.\n",
    "\n",
    "Next, the raw data extracted from GitHub contains dates in the ISO8601 format. However, pandas imports them as regular strings. To make our analysis easier, we need to convert the strings into Python's DateTime objects. DateTime objects have the important property that they can be compared and sorted.\n",
    "\n",
    "The pull request times are all in UTC (also known as Coordinated Universal Time). The commit times, however, are in the local time of the author with time zone information (number of hours difference from UTC). To make comparisons easy, we should convert all times to UTC."
   ]
  },
  {
   "cell_type": "code",
   "execution_count": 255,
   "id": "79ac0f35",
   "metadata": {},
   "outputs": [
    {
     "name": "stdout",
     "output_type": "stream",
     "text": [
      "before converting date :\n",
      "\n",
      "        pid         user                  date\n",
      "0  11166973  VladimirNik  2013-12-31T23:10:55Z\n",
      "1  11161892      Ichoran  2013-12-31T16:55:47Z\n",
      "2  11153894      Ichoran  2013-12-31T02:41:13Z\n",
      "3  11151917      rklaehn  2013-12-30T23:45:47Z\n",
      "4  11131244        qerub  2013-12-29T17:21:01Z\n",
      "\n",
      "\n",
      "after converting date : \n",
      "\n",
      "        pid         user                      date\n",
      "0  11166973  VladimirNik 2013-12-31 23:10:55+00:00\n",
      "1  11161892      Ichoran 2013-12-31 16:55:47+00:00\n",
      "2  11153894      Ichoran 2013-12-31 02:41:13+00:00\n",
      "3  11151917      rklaehn 2013-12-30 23:45:47+00:00\n",
      "4  11131244        qerub 2013-12-29 17:21:01+00:00\n"
     ]
    }
   ],
   "source": [
    "# Append pulls_one to pulls_two\n",
    "pulls = pulls_one.append(pulls_two,ignore_index=True)\n",
    "print(f\"before converting date :\\n\\n{pulls.head()}\")\n",
    "\n",
    "# Convert the date for the pulls object\n",
    "pulls[\"date\"] = pd.to_datetime(pulls[\"date\"],utc=True)\n",
    "print(f\"\\n\\nafter converting date : \\n\\n{pulls.head()}\")"
   ]
  },
  {
   "cell_type": "markdown",
   "id": "ba0f3208",
   "metadata": {},
   "source": [
    "## <center> Merging DataFrames </center>\n",
    "#### The data extracted comes in two separate files. Merging the two DataFrames will make it easier for us to analyze the data.\n"
   ]
  },
  {
   "cell_type": "code",
   "execution_count": 256,
   "id": "26b19eda",
   "metadata": {},
   "outputs": [
    {
     "name": "stdout",
     "output_type": "stream",
     "text": [
      "dataset shape : (85588, 4)\n"
     ]
    },
    {
     "data": {
      "text/html": [
       "<div>\n",
       "<style scoped>\n",
       "    .dataframe tbody tr th:only-of-type {\n",
       "        vertical-align: middle;\n",
       "    }\n",
       "\n",
       "    .dataframe tbody tr th {\n",
       "        vertical-align: top;\n",
       "    }\n",
       "\n",
       "    .dataframe thead th {\n",
       "        text-align: right;\n",
       "    }\n",
       "</style>\n",
       "<table border=\"1\" class=\"dataframe\">\n",
       "  <thead>\n",
       "    <tr style=\"text-align: right;\">\n",
       "      <th></th>\n",
       "      <th>pid</th>\n",
       "      <th>user</th>\n",
       "      <th>date</th>\n",
       "      <th>file</th>\n",
       "    </tr>\n",
       "  </thead>\n",
       "  <tbody>\n",
       "    <tr>\n",
       "      <th>0</th>\n",
       "      <td>11166973</td>\n",
       "      <td>VladimirNik</td>\n",
       "      <td>2013-12-31 23:10:55+00:00</td>\n",
       "      <td>src/reflect/scala/reflect/api/Printers.scala</td>\n",
       "    </tr>\n",
       "    <tr>\n",
       "      <th>1</th>\n",
       "      <td>11166973</td>\n",
       "      <td>VladimirNik</td>\n",
       "      <td>2013-12-31 23:10:55+00:00</td>\n",
       "      <td>src/reflect/scala/reflect/internal/Printers.scala</td>\n",
       "    </tr>\n",
       "    <tr>\n",
       "      <th>2</th>\n",
       "      <td>11166973</td>\n",
       "      <td>VladimirNik</td>\n",
       "      <td>2013-12-31 23:10:55+00:00</td>\n",
       "      <td>test/files/run/reify_ann3.check</td>\n",
       "    </tr>\n",
       "    <tr>\n",
       "      <th>3</th>\n",
       "      <td>11166973</td>\n",
       "      <td>VladimirNik</td>\n",
       "      <td>2013-12-31 23:10:55+00:00</td>\n",
       "      <td>test/junit/scala/reflect/internal/PrintersTest...</td>\n",
       "    </tr>\n",
       "    <tr>\n",
       "      <th>4</th>\n",
       "      <td>11161892</td>\n",
       "      <td>Ichoran</td>\n",
       "      <td>2013-12-31 16:55:47+00:00</td>\n",
       "      <td>src/library/scala/collection/mutable/ArrayOps....</td>\n",
       "    </tr>\n",
       "  </tbody>\n",
       "</table>\n",
       "</div>"
      ],
      "text/plain": [
       "        pid         user                      date  \\\n",
       "0  11166973  VladimirNik 2013-12-31 23:10:55+00:00   \n",
       "1  11166973  VladimirNik 2013-12-31 23:10:55+00:00   \n",
       "2  11166973  VladimirNik 2013-12-31 23:10:55+00:00   \n",
       "3  11166973  VladimirNik 2013-12-31 23:10:55+00:00   \n",
       "4  11161892      Ichoran 2013-12-31 16:55:47+00:00   \n",
       "\n",
       "                                                file  \n",
       "0       src/reflect/scala/reflect/api/Printers.scala  \n",
       "1  src/reflect/scala/reflect/internal/Printers.scala  \n",
       "2                    test/files/run/reify_ann3.check  \n",
       "3  test/junit/scala/reflect/internal/PrintersTest...  \n",
       "4  src/library/scala/collection/mutable/ArrayOps....  "
      ]
     },
     "execution_count": 256,
     "metadata": {},
     "output_type": "execute_result"
    }
   ],
   "source": [
    "data = pulls.merge(pull_files,on=\"pid\")\n",
    "print(f\"dataset shape : {data.shape}\")\n",
    "data.head()"
   ]
  },
  {
   "cell_type": "markdown",
   "id": "7cc2d6dd",
   "metadata": {},
   "source": [
    "## <center> Is the project still actively maintained? </center>\n",
    "The activity in an open source project is not very consistent. Some projects might be active for many years after the initial release, while others can slowly taper out into oblivion. Before committing to contributing to a project, it is important to understand the state of the project. Is development going steadily, or is there a drop? Has the project been abandoned altogether?\n",
    "\n",
    "The data used in this project was collected in January of 2018. We are interested in the evolution of the number of contributions up to that date.\n",
    "\n",
    "For Scala, we will do this by plotting a chart of the project's activity. We will calculate the number of pull requests submitted each (calendar) month during the project's lifetime. We will then plot these numbers to see the trend of contributions.\n",
    "\n",
    "A helpful reminder of how to access various components of a date can be found in this exercise of Data Manipulation with pandas\n",
    "\n",
    "Additionally, recall that you can group by multiple variables by passing a list to .groupby(). This video from Data Manipulation with pandas should help!"
   ]
  },
  {
   "cell_type": "code",
   "execution_count": 257,
   "id": "84d5c155",
   "metadata": {},
   "outputs": [
    {
     "data": {
      "text/plain": [
       "<AxesSubplot:xlabel='month, year'>"
      ]
     },
     "execution_count": 257,
     "metadata": {},
     "output_type": "execute_result"
    },
    {
     "data": {
      "image/png": "[encoded data removed]",
      "text/plain": [
       "<Figure size 864x432 with 1 Axes>"
      ]
     },
     "metadata": {
      "needs_background": "light"
     },
     "output_type": "display_data"
    }
   ],
   "source": [
    "%matplotlib inline\n",
    "\n",
    "# column that will store the month\n",
    "data[\"month\"] = data[\"date\"].dt.month\n",
    "\n",
    "# column that will store the year\n",
    "data[\"year\"] = data[\"date\"].dt.year\n",
    "\n",
    "# Group by the month and year and count the pull requests\n",
    "counts = data.groupby([\"month\",\"year\"])[\"pid\"].count()\n",
    "\n",
    "# Plot the results\n",
    "counts.plot(kind=\"bar\", figsize = (12,6), color=\"r\",xlabel=\"month, year\")"
   ]
  },
  {
   "cell_type": "markdown",
   "id": "c44a3aec",
   "metadata": {},
   "source": [
    "## <center> Is there camaraderie in the project? </center>\n",
    "The organizational structure varies from one project to another and it can influence success as a contributor. A project that has a very small community might not be the best one to start working on. The small community might indicate a high barrier of entry. This can be caused by several factors including a community that is reluctant to accept pull requests from \"outsiders\", that the code base is hard to work with etc. However, a large community can serve as an indicator that the project is regularly accepting pull requests from new contributors. Such a project would be a good place to start.\n",
    "\n",
    "In order to evaluate the dynamics of the community, we will plot a histogram of the number of pull requests submitted by each user. A distribution that shows that there are few people that only contribute a small number of pull requests can be used as in indicator that the project is not welcoming of new contributors."
   ]
  },
  {
   "cell_type": "code",
   "execution_count": 258,
   "id": "56f5ca85",
   "metadata": {},
   "outputs": [
    {
     "data": {
      "text/plain": [
       "<AxesSubplot:ylabel='Frequency'>"
      ]
     },
     "execution_count": 258,
     "metadata": {},
     "output_type": "execute_result"
    },
    {
     "data": {
      "image/png": "[encoded data removed]",
      "text/plain": [
       "<Figure size 864x288 with 1 Axes>"
      ]
     },
     "metadata": {
      "needs_background": "light"
     },
     "output_type": "display_data"
    }
   ],
   "source": [
    "%matplotlib inline\n",
    "\n",
    "# Group by the submitter\n",
    "# by_user = data.groupby(\"user\")[\"pid\"].count()        #use any form\n",
    "by_user=data.groupby('user')['pid'].count()\n",
    "\n",
    "# Plot the histogram\n",
    "by_user.plot(kind=\"hist\",figsize = (12,4), color=\"r\",xlim=(0))"
   ]
  },
  {
   "cell_type": "markdown",
   "id": "ad74abdf",
   "metadata": {},
   "source": [
    "## <center> Who made the last ten pull requests on a given file? </center>\n",
    "Open source projects suffer from fluctuating membership. This makes the problem of finding the right person more challenging: the person has to be knowledgeable and still be involved in the project. A person that contributed a lot in the past might no longer be available (or willing) to help. To get a better understanding, we need to investigate the more recent history of that particular part of the system.\n",
    "We will look at the history of src/compiler/scala/reflect/reify/phases/Calculate.scala"
   ]
  },
  {
   "cell_type": "code",
   "execution_count": 259,
   "id": "420b1760",
   "metadata": {},
   "outputs": [
    {
     "name": "stdout",
     "output_type": "stream",
     "text": [
      "{'zuvizudar', 'soc', 'xeno-by', 'retronym', 'bjornregnell', 'starblood'}\n"
     ]
    }
   ],
   "source": [
    "file='src/compiler/scala/reflect/reify/phases/Calculate.scala'\n",
    "d_file=data[data['file']==file]\n",
    "date_file=d_file.nlargest(10,'date')\n",
    "print(set(date_file['user']))"
   ]
  },
  {
   "cell_type": "markdown",
   "id": "71d6e25e",
   "metadata": {},
   "source": [
    "## <center>The pull requests of two special developers</center>\n",
    "Now that we have identified two potential contacts in the projects, we need to find the person who was most involved in the project in recent times. That person is most likely to answer our questions. For each calendar year, we are interested in understanding the number of pull requests the authors submitted. This will give us a high-level image of their contribution trend to the project"
   ]
  },
  {
   "cell_type": "code",
   "execution_count": 260,
   "id": "7bd2abef",
   "metadata": {},
   "outputs": [
    {
     "data": {
      "text/plain": [
       "<AxesSubplot:xlabel='date'>"
      ]
     },
     "execution_count": 260,
     "metadata": {},
     "output_type": "execute_result"
    },
    {
     "data": {
      "image/png": "[encoded data removed]",
      "text/plain": [
       "<Figure size 864x432 with 1 Axes>"
      ]
     },
     "metadata": {
      "needs_background": "light"
     },
     "output_type": "display_data"
    }
   ],
   "source": [
    "%matplotlib inline\n",
    "\n",
    "# The developers we are interested in\n",
    "authors = [\"xeno-by\", \"soc\"]\n",
    "\n",
    "# Get all the developers' pull requests\n",
    "by_author = pulls[pulls[\"user\"].isin(authors)]\n",
    "\n",
    "# Count the number of pull requests submitted each year\n",
    "counts = by_author.groupby([by_author['user'], by_author['date'].dt.year]).agg({\"pid\": \"count\"}).reset_index()\n",
    "\n",
    "# Convert the table to a wide format\n",
    "counts_wide = counts.pivot_table(index=\"date\", columns=\"user\", values=\"pid\", fill_value=0)\n",
    "\n",
    "# Plot the results\n",
    "counts_wide.plot(kind=\"bar\", figsize = (12,6), color=[\"maroon\",\"silver\"])"
   ]
  },
  {
   "cell_type": "markdown",
   "id": "5cac3d45",
   "metadata": {},
   "source": [
    "## <center> Visualizing the contributions of each developer </center>\n",
    "As mentioned before, it is important to make a distinction between the global expertise and contribution levels and the contribution levels at a more granular level (file, submodule etc.) In our case, we want to see which of our two developers of interest have the most experience with the code in a given file. We will measure experience by the number of pull requests submitted that affect that file and how recent those pull requests were submitted."
   ]
  },
  {
   "cell_type": "code",
   "execution_count": 261,
   "id": "de4ba96b",
   "metadata": {},
   "outputs": [
    {
     "data": {
      "text/plain": [
       "<AxesSubplot:xlabel='date'>"
      ]
     },
     "execution_count": 261,
     "metadata": {},
     "output_type": "execute_result"
    },
    {
     "data": {
      "image/png": "[encoded data removed]",
      "text/plain": [
       "<Figure size 864x432 with 1 Axes>"
      ]
     },
     "metadata": {
      "needs_background": "light"
     },
     "output_type": "display_data"
    }
   ],
   "source": [
    "authors = [\"xeno-by\", \"soc\"]\n",
    "file = \"src/compiler/scala/reflect/reify/phases/Calculate.scala\"\n",
    "\n",
    "# Select the pull requests submitted by the authors, from the `data` DataFrame\n",
    "by_author = data[data[\"user\"].isin(authors)]\n",
    "\n",
    "# Select the pull requests that affect the file\n",
    "by_file = by_author[by_author[\"file\"] == file]\n",
    "\n",
    "# Group and count the number of PRs done by each user each year\n",
    "grouped = by_file.groupby([\"user\", by_file[\"date\"].dt.year]).count()[\"pid\"].reset_index()\n",
    "\n",
    "# Transform the data into a wide format\n",
    "by_file_wide = grouped.pivot_table(index=\"date\", columns=\"user\", values=\"pid\", fill_value=0)\n",
    "\n",
    "\n",
    "# Plot the results\n",
    "by_file_wide.plot(kind=\"bar\", figsize = (12,6), color=[\"teal\",\"orange\"])"
   ]
  }
 ],
 "metadata": {
  "kernelspec": {
   "display_name": "Python 3 (ipykernel)",
   "language": "python",
   "name": "python3"
  },
  "language_info": {
   "codemirror_mode": {
    "name": "ipython",
    "version": 3
   },
   "file_extension": ".py",
   "mimetype": "text/x-python",
   "name": "python",
   "nbconvert_exporter": "python",
   "pygments_lexer": "ipython3",
   "version": "3.9.7"
  }
 },
 "nbformat": 4,
 "nbformat_minor": 5
}
